{
 "cells": [
  {
   "cell_type": "markdown",
   "id": "f0efd3da-1edd-4266-8680-8b65584645db",
   "metadata": {},
   "source": [
    "# Breast Cancer Diagnosis Classification Project"
   ]
  },
  {
   "cell_type": "markdown",
   "id": "adddfe6d-93cb-4937-9d65-94c8a1d50656",
   "metadata": {},
   "source": [
    "Julie Compston - July 2025 - github.com/jcompston"
   ]
  },
  {
   "cell_type": "markdown",
   "id": "e6b8c0a1-7cc3-4510-a7f3-c28c1ee3a3d8",
   "metadata": {},
   "source": [
    "In this project, I will experiment with different classification algorithms to learn a model that can accurately classify whether a tumor is malignant or benign. The data used in the notebook was downloaded from the UCI Machine Learning Repository and was initially collected by W.N. Street, W.H. Wolberg and O.L. Mangasarian at the University of Wisconsin."
   ]
  },
  {
   "cell_type": "markdown",
   "id": "afb5ac8d-ef83-43d1-ac62-02b5eadaa121",
   "metadata": {},
   "source": [
    "#### Import Libraries"
   ]
  },
  {
   "cell_type": "code",
   "execution_count": 32,
   "id": "d01ceb85-6d53-4233-a633-563cb783899c",
   "metadata": {},
   "outputs": [],
   "source": [
    "import matplotlib.pyplot as plt\n",
    "import pandas as pd\n",
    "import seaborn as sn\n",
    "import sklearn\n",
    "\n",
    "from sklearn.model_selection import train_test_split\n",
    "from sklearn.preprocessing import StandardScaler\n",
    "from sklearn.ensemble import RandomForestClassifier, VotingClassifier\n",
    "from sklearn.linear_model import LogisticRegression\n",
    "from sklearn.svm import SVC\n",
    "from sklearn.metrics import f1_score, confusion_matrix"
   ]
  },
  {
   "cell_type": "markdown",
   "id": "2818861e-440d-4f16-98e5-b2231fada353",
   "metadata": {},
   "source": [
    "## Preparing Data"
   ]
  },
  {
   "cell_type": "markdown",
   "id": "54806e2a-502d-4cf1-a017-d77f50eb5452",
   "metadata": {},
   "source": [
    "#### Load Data into Dataframe"
   ]
  },
  {
   "cell_type": "code",
   "execution_count": 4,
   "id": "2d3ed9e1-c543-444b-beaa-8f40909cb112",
   "metadata": {},
   "outputs": [],
   "source": [
    "headers = [\"id\", \"diagnosis\", \"radius1\", \"texture1\", \"perimeter1\", \"area1\", \"smoothness1\", \\\n",
    "           \"compactness1\", \"concavity1\", \"concave_points1\", \"symmetry1\", \"frac_dim1\", \\\n",
    "           \"radius2\", \"texture2\", \"perimeter2\", \"area2\", \"smoothness2\", \"compactness2\", \\\n",
    "           \"concavity2\", \"concave_points2\", \"symmetry2\", \"frac_dim2\", \"radius3\", \"texture3\", \\\n",
    "           \"perimeter3\", \"area3\", \"smoothness3\", \"compactness3\", \"concavity3\", \\\n",
    "           \"concave_points3\", \"symmetry3\", \"frac_dim3\"]\n",
    "\n",
    "df = pd.read_csv('wdbc.data', names=headers)"
   ]
  },
  {
   "cell_type": "markdown",
   "id": "a7940344-a4c2-45a8-963e-ab71f5be6872",
   "metadata": {},
   "source": [
    "#### Separating Features and Target Variable"
   ]
  },
  {
   "cell_type": "code",
   "execution_count": 5,
   "id": "8fd96f26-e37a-4d0d-9066-ea8b3029e81b",
   "metadata": {},
   "outputs": [],
   "source": [
    "X = df.iloc[:, 2:]\n",
    "y = df.iloc[:, 1]"
   ]
  },
  {
   "cell_type": "markdown",
   "id": "69b3f00a-cdb8-4273-9aa7-c753771c79fa",
   "metadata": {},
   "source": [
    "#### Train / Test Split"
   ]
  },
  {
   "cell_type": "code",
   "execution_count": 6,
   "id": "114a06b6-f511-4c7c-a233-6dcf2ce19177",
   "metadata": {},
   "outputs": [],
   "source": [
    "X_train, X_test, y_train, y_test = train_test_split(X, y, test_size=0.3, random_state=42)"
   ]
  },
  {
   "cell_type": "markdown",
   "id": "084d8ae7-6ed0-4fce-a941-631ca14b25da",
   "metadata": {},
   "source": [
    "#### Scaling Features"
   ]
  },
  {
   "cell_type": "code",
   "execution_count": 7,
   "id": "fdb71d00-093b-4351-89e7-7bc3114b5fc8",
   "metadata": {},
   "outputs": [],
   "source": [
    "scaler = StandardScaler()\n",
    "X_train = scaler.fit_transform(X_train)\n",
    "X_test = scaler.transform(X_test)"
   ]
  },
  {
   "cell_type": "markdown",
   "id": "ee391668-47b2-48ec-8945-7151af9003b7",
   "metadata": {},
   "source": [
    "## Building Classifier Models"
   ]
  },
  {
   "cell_type": "markdown",
   "id": "27128259-6594-4916-877e-40ff1c2cbfb7",
   "metadata": {},
   "source": [
    "#### Random Forest Classifier"
   ]
  },
  {
   "cell_type": "code",
   "execution_count": 30,
   "id": "335c8bf3-8894-4b9d-9c71-33d3ec55daca",
   "metadata": {},
   "outputs": [],
   "source": [
    "rfc = RandomForestClassifier(n_estimators=100, random_state=42)\n",
    "rfc.fit(X_train, y_train)\n",
    "rfc_pred = rfc.predict(X_test)"
   ]
  },
  {
   "cell_type": "markdown",
   "id": "154fdee6-9d13-4ade-85f7-b19ee410a7d4",
   "metadata": {},
   "source": [
    "#### Logistic Regression"
   ]
  },
  {
   "cell_type": "code",
   "execution_count": 9,
   "id": "1bb28c24-50d7-4a1b-87ad-b2b2f1728ec0",
   "metadata": {},
   "outputs": [],
   "source": [
    "log = LogisticRegression()\n",
    "log.fit(X_train, y_train)\n",
    "log_pred = log.predict(X_test)"
   ]
  },
  {
   "cell_type": "markdown",
   "id": "52259ee0-297a-45ce-93a3-242d571dd024",
   "metadata": {},
   "source": [
    "#### SVM"
   ]
  },
  {
   "cell_type": "code",
   "execution_count": 10,
   "id": "8d63a70a-373d-4058-b6b9-16a9c4673e68",
   "metadata": {},
   "outputs": [],
   "source": [
    "svm = SVC(kernel='linear', probability=True)\n",
    "svm.fit(X_train, y_train)\n",
    "svm_pred = svm.predict(X_test)"
   ]
  },
  {
   "cell_type": "markdown",
   "id": "fe16b32b-945e-4bbb-9453-e95a04a978bd",
   "metadata": {},
   "source": [
    "## Evaluating Performance"
   ]
  },
  {
   "cell_type": "markdown",
   "id": "39cbbb25-21f6-4462-bfc5-598677ae0a66",
   "metadata": {},
   "source": [
    "#### Mean Accuracy"
   ]
  },
  {
   "cell_type": "code",
   "execution_count": 31,
   "id": "5c816db6-56db-4a3e-82c4-48bddbdddfa3",
   "metadata": {},
   "outputs": [
    {
     "name": "stdout",
     "output_type": "stream",
     "text": [
      "Random Forest Score: 0.9707602339181286\n",
      "Logistic Regression Score: 0.9824561403508771\n",
      "SVM Score: 0.9766081871345029\n"
     ]
    }
   ],
   "source": [
    "rfc_score = rfc.score(X_test, y_test)\n",
    "log_score = log.score(X_test, y_test)\n",
    "svm_score = svm.score(X_test, y_test)\n",
    "\n",
    "print(f'Random Forest Score: {rfc_score}')\n",
    "print(f'Logistic Regression Score: {log_score}')\n",
    "print(f'SVM Score: {svm_score}')"
   ]
  },
  {
   "cell_type": "markdown",
   "id": "a0555f50-8f59-4651-9444-98ef9d80f5bb",
   "metadata": {},
   "source": [
    "#### F1 Scores"
   ]
  },
  {
   "cell_type": "code",
   "execution_count": 12,
   "id": "78deb31a-c937-404c-93da-69dca04342b9",
   "metadata": {},
   "outputs": [
    {
     "name": "stdout",
     "output_type": "stream",
     "text": [
      "Random Forest F1 Score: [0.97716895 0.95934959]\n",
      "Logistic Regression F1 Score: [0.98604651 0.97637795]\n",
      "SVM F1 Score: [0.98148148 0.96825397]\n"
     ]
    }
   ],
   "source": [
    "rfc_f1 = f1_score(y_test, rfc_pred, average=None, labels=[\"B\",\"M\"])\n",
    "log_f1 = f1_score(y_test, log_pred, average=None, labels=[\"B\",\"M\"])\n",
    "svm_f1 = f1_score(y_test, svm_pred, average=None, labels=[\"B\",\"M\"])\n",
    "\n",
    "print(f'Random Forest F1 Score: {rfc_f1}')\n",
    "print(f'Logistic Regression F1 Score: {log_f1}')\n",
    "print(f'SVM F1 Score: {svm_f1}')"
   ]
  },
  {
   "cell_type": "markdown",
   "id": "3f27b6b6-5e4c-45d4-9d3b-b8572d3fd917",
   "metadata": {},
   "source": [
    "#### Confusion Matrices"
   ]
  },
  {
   "cell_type": "code",
   "execution_count": 13,
   "id": "0228e33e-76c3-44c4-aeea-f4f611a77525",
   "metadata": {},
   "outputs": [
    {
     "data": {
      "image/png": "[encoded data removed]",
      "text/plain": [
       "<Figure size 400x300 with 1 Axes>"
      ]
     },
     "metadata": {},
     "output_type": "display_data"
    },
    {
     "data": {
      "image/png": "[encoded data removed]",
      "text/plain": [
       "<Figure size 400x300 with 1 Axes>"
      ]
     },
     "metadata": {},
     "output_type": "display_data"
    },
    {
     "data": {
      "image/png": "[encoded data removed]",
      "text/plain": [
       "<Figure size 400x300 with 1 Axes>"
      ]
     },
     "metadata": {},
     "output_type": "display_data"
    }
   ],
   "source": [
    "diagnosis = [\"benign\", \"malignant\"]\n",
    "\n",
    "# Random Forest Confusion Matrix\n",
    "rfc_conf_matrix = confusion_matrix(y_test, rfc_pred)\n",
    "\n",
    "plt.figure(figsize=(4, 3))\n",
    "sn.heatmap(rfc_conf_matrix, annot=True, fmt='g', cmap='Greens', cbar=False, xticklabels=diagnosis, yticklabels=diagnosis)\n",
    "\n",
    "plt.title('Random Forest Confusion Matrix')\n",
    "plt.xlabel('Predicted Labels')\n",
    "plt.ylabel('True Labels')\n",
    "\n",
    "\n",
    "#Logistic Regression Confusion Matrix\n",
    "log_conf_matrix = confusion_matrix(y_test, log_pred)\n",
    "\n",
    "plt.figure(figsize=(4, 3))\n",
    "sn.heatmap(log_conf_matrix, annot=True, fmt='g', cmap='Blues', cbar=False, xticklabels=diagnosis, yticklabels=diagnosis)\n",
    "\n",
    "plt.title('Logistic Regression Confusion Matrix')\n",
    "plt.xlabel('Predicted Labels')\n",
    "plt.ylabel('True Labels')\n",
    "\n",
    "\n",
    "# SVM Confusion Matrix\n",
    "svm_conf_matrix = confusion_matrix(y_test, svm_pred)\n",
    "\n",
    "plt.figure(figsize=(4, 3))\n",
    "sn.heatmap(svm_conf_matrix, annot=True, fmt='g', cmap='Reds', cbar=False, xticklabels=diagnosis, yticklabels=diagnosis)\n",
    "\n",
    "plt.title('SVM Confusion Matrix')\n",
    "plt.xlabel('Predicted Labels')\n",
    "plt.ylabel('True Labels')\n",
    "\n",
    "\n",
    "plt.show()"
   ]
  },
  {
   "cell_type": "markdown",
   "id": "8d229cac-8ca3-4f07-82f8-f5dd9a538e85",
   "metadata": {},
   "source": [
    "## Implementing Voting"
   ]
  },
  {
   "cell_type": "markdown",
   "id": "93aaf062-a4d2-4cec-bae0-5701432e35c2",
   "metadata": {},
   "source": [
    "### Voting Classifier"
   ]
  },
  {
   "cell_type": "code",
   "execution_count": 14,
   "id": "dc4978ad-06b9-497e-bced-ef6db0ffffeb",
   "metadata": {},
   "outputs": [],
   "source": [
    "vote_soft = VotingClassifier(estimators=[('rfc', rfc), ('log', log), ('svm', svm)], voting='soft')\n",
    "vote_soft.fit(X_train, y_train)\n",
    "vote_soft_pred = vote_soft.predict(X_test)"
   ]
  },
  {
   "cell_type": "markdown",
   "id": "3ac2a002-4af2-4dc8-9967-6ea3b2cdd0b1",
   "metadata": {},
   "source": [
    "### Evaluation"
   ]
  },
  {
   "cell_type": "markdown",
   "id": "1885f065-3bc5-46dc-905d-0e00e59ad31e",
   "metadata": {},
   "source": [
    "#### Mean Accuracy"
   ]
  },
  {
   "cell_type": "code",
   "execution_count": 15,
   "id": "2a8e08d0-1b5b-455f-880b-6f9d10654e97",
   "metadata": {},
   "outputs": [
    {
     "data": {
      "text/plain": [
       "0.9766081871345029"
      ]
     },
     "execution_count": 15,
     "metadata": {},
     "output_type": "execute_result"
    }
   ],
   "source": [
    "vote_soft.score(X_test, y_test)"
   ]
  },
  {
   "cell_type": "markdown",
   "id": "3f6c1d3a-1009-47b7-89da-6fafa5781cd6",
   "metadata": {},
   "source": [
    "#### F1 Score"
   ]
  },
  {
   "cell_type": "code",
   "execution_count": 16,
   "id": "fe6377cd-91fd-48d8-b7b2-9702cfa0bd6f",
   "metadata": {},
   "outputs": [
    {
     "name": "stdout",
     "output_type": "stream",
     "text": [
      "Soft Vote F1 Score: [0.98148148 0.96825397]\n"
     ]
    }
   ],
   "source": [
    "vote_soft_f1 = f1_score(y_test, vote_soft_pred, average=None, labels=[\"B\",\"M\"])\n",
    "\n",
    "print(f'Soft Vote F1 Score: {vote_soft_f1}')"
   ]
  },
  {
   "cell_type": "markdown",
   "id": "c434dc0c-0113-48cc-af9b-2f46f977f313",
   "metadata": {},
   "source": [
    "#### Confusion Matrix"
   ]
  },
  {
   "cell_type": "code",
   "execution_count": 17,
   "id": "615a3f2d-f141-49d6-8f56-9819697b6a31",
   "metadata": {},
   "outputs": [
    {
     "data": {
      "image/png": "[encoded data removed]",
      "text/plain": [
       "<Figure size 400x300 with 1 Axes>"
      ]
     },
     "metadata": {},
     "output_type": "display_data"
    }
   ],
   "source": [
    "vote_conf_matrix = confusion_matrix(y_test, vote_soft_pred)\n",
    "\n",
    "plt.figure(figsize=(4,3))\n",
    "sn.heatmap(vote_conf_matrix, annot=True, fmt='g', cmap='Purples', cbar=False, xticklabels=diagnosis, yticklabels=diagnosis)\n",
    "\n",
    "plt.title(\"Soft Vote Confusion Matrix\")\n",
    "plt.xlabel(\"Predicted Labels\")\n",
    "plt.ylabel(\"True Labels\")\n",
    "plt.show()"
   ]
  },
  {
   "cell_type": "markdown",
   "id": "2cf9ce8f-7a7b-4485-a283-03b88300ecc3",
   "metadata": {},
   "source": [
    "## Conclusion"
   ]
  },
  {
   "cell_type": "markdown",
   "id": "ec723885-b37c-485e-8b67-cfe94b9e0c72",
   "metadata": {},
   "source": [
    "Though the voting mechanism returns a 97.66% accuracy score with an identical confusion matrix to the SVM classifier, the Logistic Regression classifier returns the highest accuracy score at 98.25% accuracy. Fine tuning could be implemented for data with more imperfections, though experimenting with GridSearchCV from sklearn.model_selection did not yield significant parameter tuning opportunities for these models."
   ]
  }
 ],
 "metadata": {
  "kernelspec": {
   "display_name": "Python 3 (ipykernel)",
   "language": "python",
   "name": "python3"
  },
  "language_info": {
   "codemirror_mode": {
    "name": "ipython",
    "version": 3
   },
   "file_extension": ".py",
   "mimetype": "text/x-python",
   "name": "python",
   "nbconvert_exporter": "python",
   "pygments_lexer": "ipython3",
   "version": "3.13.5"
  }
 },
 "nbformat": 4,
 "nbformat_minor": 5
}
